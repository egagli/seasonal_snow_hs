{
 "cells": [
  {
   "cell_type": "markdown",
   "id": "ca3b515c-d2a0-4a47-ba69-d7d5e5bc68af",
   "metadata": {},
   "source": [
    "# Seasonal snow assignment\n",
    "Eric Gagliano, Seth Vanderwilt\n",
    "\n",
    "CEWA 568 Final Project\n",
    "\n",
    "## Teaching goals of this notebook\n",
    "\n",
    "Analyze how snow accumulates and melts over the water year at a key study site, Paradise in Mount Rainier National Park.\n",
    "\n",
    "## Instructions\n",
    "\n",
    "\n",
    "**Questions are in bold.** Please fill in your answers to the questions in the markdown cells labeled *Your answer here*. "
   ]
  },
  {
   "cell_type": "markdown",
   "id": "a00af6a0-65b4-49df-9a87-f28225dbd41b",
   "metadata": {},
   "source": [
    "## Importing code packages"
   ]
  },
  {
   "cell_type": "code",
   "execution_count": 1,
   "id": "de7ca6b0-5ca5-4016-85af-b94f6e279fc7",
   "metadata": {
    "tags": []
   },
   "outputs": [],
   "source": [
    "# We'll use Metloom to quickly download a time series of measurements from our SNOTEL site\n",
    "!pip install -q metloom"
   ]
  },
  {
   "cell_type": "code",
   "execution_count": 2,
   "id": "1ab5b6dc-c032-44be-982d-5c64c14e4e6d",
   "metadata": {},
   "outputs": [],
   "source": [
    "from datetime import datetime\n",
    "import pandas as pd\n",
    "import matplotlib.pyplot as plt\n",
    "import numpy as np\n",
    "\n",
    "from metloom.pointdata import SnotelPointData\n",
    "from metloom.variables import SnotelVariables"
   ]
  },
  {
   "cell_type": "markdown",
   "id": "d0ae0895-2969-46a1-b35b-230905371c92",
   "metadata": {},
   "source": [
    "## Downloading data from Water Year 2021 (October 1st 2020 - September 30th 2021)\n",
    "* Read the description of the Paradise SNOTEL site on this page: https://wcc.sc.egov.usda.gov/nwcc/site?sitenum=679\n"
   ]
  },
  {
   "cell_type": "markdown",
   "id": "639dea05-3717-441e-8b59-602f17a400db",
   "metadata": {},
   "source": [
    "**1. Describe the location of this site. What is its elevation?**\n"
   ]
  },
  {
   "cell_type": "markdown",
   "id": "4cd6db21-b392-4d38-8757-732a6fe9c329",
   "metadata": {},
   "source": [
    "*Your answer here*"
   ]
  },
  {
   "cell_type": "code",
   "execution_count": 3,
   "id": "40512cc8-73f4-459c-b171-2a87501d5d3d",
   "metadata": {},
   "outputs": [
    {
     "data": {
      "text/html": [
       "<div>\n",
       "<style scoped>\n",
       "    .dataframe tbody tr th:only-of-type {\n",
       "        vertical-align: middle;\n",
       "    }\n",
       "\n",
       "    .dataframe tbody tr th {\n",
       "        vertical-align: top;\n",
       "    }\n",
       "\n",
       "    .dataframe thead th {\n",
       "        text-align: right;\n",
       "    }\n",
       "</style>\n",
       "<table border=\"1\" class=\"dataframe\">\n",
       "  <thead>\n",
       "    <tr style=\"text-align: right;\">\n",
       "      <th></th>\n",
       "      <th>site</th>\n",
       "      <th>geometry</th>\n",
       "      <th>PRECIPITATION</th>\n",
       "      <th>PRECIPITATION_units</th>\n",
       "      <th>ACCUMULATED PRECIPITATION</th>\n",
       "      <th>ACCUMULATED PRECIPITATION_units</th>\n",
       "      <th>SNOWDEPTH</th>\n",
       "      <th>SNOWDEPTH_units</th>\n",
       "      <th>SWE</th>\n",
       "      <th>SWE_units</th>\n",
       "      <th>AVG AIR TEMP</th>\n",
       "      <th>AVG AIR TEMP_units</th>\n",
       "      <th>MIN AIR TEMP</th>\n",
       "      <th>MIN AIR TEMP_units</th>\n",
       "      <th>MAX AIR TEMP</th>\n",
       "      <th>MAX AIR TEMP_units</th>\n",
       "      <th>SOIL MOISTURE -2IN</th>\n",
       "      <th>SOIL MOISTURE -2IN_units</th>\n",
       "      <th>datasource</th>\n",
       "    </tr>\n",
       "    <tr>\n",
       "      <th>datetime</th>\n",
       "      <th></th>\n",
       "      <th></th>\n",
       "      <th></th>\n",
       "      <th></th>\n",
       "      <th></th>\n",
       "      <th></th>\n",
       "      <th></th>\n",
       "      <th></th>\n",
       "      <th></th>\n",
       "      <th></th>\n",
       "      <th></th>\n",
       "      <th></th>\n",
       "      <th></th>\n",
       "      <th></th>\n",
       "      <th></th>\n",
       "      <th></th>\n",
       "      <th></th>\n",
       "      <th></th>\n",
       "      <th></th>\n",
       "    </tr>\n",
       "  </thead>\n",
       "  <tbody>\n",
       "    <tr>\n",
       "      <th>2020-10-01 08:00:00+00:00</th>\n",
       "      <td>679:WA:SNTL</td>\n",
       "      <td>POINT Z (-121.74765 46.78265 5130.00000)</td>\n",
       "      <td>0.0</td>\n",
       "      <td>in</td>\n",
       "      <td>0.0</td>\n",
       "      <td>in</td>\n",
       "      <td>0.0</td>\n",
       "      <td>in</td>\n",
       "      <td>0.0</td>\n",
       "      <td>in</td>\n",
       "      <td>64.22</td>\n",
       "      <td>degF</td>\n",
       "      <td>60.08</td>\n",
       "      <td>degF</td>\n",
       "      <td>73.22</td>\n",
       "      <td>degF</td>\n",
       "      <td>2.6</td>\n",
       "      <td>pct</td>\n",
       "      <td>NRCS</td>\n",
       "    </tr>\n",
       "    <tr>\n",
       "      <th>2020-10-02 08:00:00+00:00</th>\n",
       "      <td>679:WA:SNTL</td>\n",
       "      <td>POINT Z (-121.74765 46.78265 5130.00000)</td>\n",
       "      <td>0.0</td>\n",
       "      <td>in</td>\n",
       "      <td>0.0</td>\n",
       "      <td>in</td>\n",
       "      <td>0.0</td>\n",
       "      <td>in</td>\n",
       "      <td>0.0</td>\n",
       "      <td>in</td>\n",
       "      <td>61.88</td>\n",
       "      <td>degF</td>\n",
       "      <td>55.76</td>\n",
       "      <td>degF</td>\n",
       "      <td>70.70</td>\n",
       "      <td>degF</td>\n",
       "      <td>2.7</td>\n",
       "      <td>pct</td>\n",
       "      <td>NRCS</td>\n",
       "    </tr>\n",
       "    <tr>\n",
       "      <th>2020-10-03 08:00:00+00:00</th>\n",
       "      <td>679:WA:SNTL</td>\n",
       "      <td>POINT Z (-121.74765 46.78265 5130.00000)</td>\n",
       "      <td>0.0</td>\n",
       "      <td>in</td>\n",
       "      <td>0.0</td>\n",
       "      <td>in</td>\n",
       "      <td>0.0</td>\n",
       "      <td>in</td>\n",
       "      <td>0.0</td>\n",
       "      <td>in</td>\n",
       "      <td>56.66</td>\n",
       "      <td>degF</td>\n",
       "      <td>48.20</td>\n",
       "      <td>degF</td>\n",
       "      <td>66.38</td>\n",
       "      <td>degF</td>\n",
       "      <td>2.8</td>\n",
       "      <td>pct</td>\n",
       "      <td>NRCS</td>\n",
       "    </tr>\n",
       "    <tr>\n",
       "      <th>2020-10-04 08:00:00+00:00</th>\n",
       "      <td>679:WA:SNTL</td>\n",
       "      <td>POINT Z (-121.74765 46.78265 5130.00000)</td>\n",
       "      <td>0.0</td>\n",
       "      <td>in</td>\n",
       "      <td>0.0</td>\n",
       "      <td>in</td>\n",
       "      <td>0.0</td>\n",
       "      <td>in</td>\n",
       "      <td>0.0</td>\n",
       "      <td>in</td>\n",
       "      <td>50.18</td>\n",
       "      <td>degF</td>\n",
       "      <td>42.62</td>\n",
       "      <td>degF</td>\n",
       "      <td>59.00</td>\n",
       "      <td>degF</td>\n",
       "      <td>1.8</td>\n",
       "      <td>pct</td>\n",
       "      <td>NRCS</td>\n",
       "    </tr>\n",
       "    <tr>\n",
       "      <th>2020-10-05 08:00:00+00:00</th>\n",
       "      <td>679:WA:SNTL</td>\n",
       "      <td>POINT Z (-121.74765 46.78265 5130.00000)</td>\n",
       "      <td>0.0</td>\n",
       "      <td>in</td>\n",
       "      <td>0.0</td>\n",
       "      <td>in</td>\n",
       "      <td>0.0</td>\n",
       "      <td>in</td>\n",
       "      <td>0.0</td>\n",
       "      <td>in</td>\n",
       "      <td>55.04</td>\n",
       "      <td>degF</td>\n",
       "      <td>44.60</td>\n",
       "      <td>degF</td>\n",
       "      <td>64.40</td>\n",
       "      <td>degF</td>\n",
       "      <td>2.5</td>\n",
       "      <td>pct</td>\n",
       "      <td>NRCS</td>\n",
       "    </tr>\n",
       "  </tbody>\n",
       "</table>\n",
       "</div>"
      ],
      "text/plain": [
       "                                  site  \\\n",
       "datetime                                 \n",
       "2020-10-01 08:00:00+00:00  679:WA:SNTL   \n",
       "2020-10-02 08:00:00+00:00  679:WA:SNTL   \n",
       "2020-10-03 08:00:00+00:00  679:WA:SNTL   \n",
       "2020-10-04 08:00:00+00:00  679:WA:SNTL   \n",
       "2020-10-05 08:00:00+00:00  679:WA:SNTL   \n",
       "\n",
       "                                                           geometry  \\\n",
       "datetime                                                              \n",
       "2020-10-01 08:00:00+00:00  POINT Z (-121.74765 46.78265 5130.00000)   \n",
       "2020-10-02 08:00:00+00:00  POINT Z (-121.74765 46.78265 5130.00000)   \n",
       "2020-10-03 08:00:00+00:00  POINT Z (-121.74765 46.78265 5130.00000)   \n",
       "2020-10-04 08:00:00+00:00  POINT Z (-121.74765 46.78265 5130.00000)   \n",
       "2020-10-05 08:00:00+00:00  POINT Z (-121.74765 46.78265 5130.00000)   \n",
       "\n",
       "                           PRECIPITATION PRECIPITATION_units  \\\n",
       "datetime                                                       \n",
       "2020-10-01 08:00:00+00:00            0.0                  in   \n",
       "2020-10-02 08:00:00+00:00            0.0                  in   \n",
       "2020-10-03 08:00:00+00:00            0.0                  in   \n",
       "2020-10-04 08:00:00+00:00            0.0                  in   \n",
       "2020-10-05 08:00:00+00:00            0.0                  in   \n",
       "\n",
       "                           ACCUMULATED PRECIPITATION  \\\n",
       "datetime                                               \n",
       "2020-10-01 08:00:00+00:00                        0.0   \n",
       "2020-10-02 08:00:00+00:00                        0.0   \n",
       "2020-10-03 08:00:00+00:00                        0.0   \n",
       "2020-10-04 08:00:00+00:00                        0.0   \n",
       "2020-10-05 08:00:00+00:00                        0.0   \n",
       "\n",
       "                          ACCUMULATED PRECIPITATION_units  SNOWDEPTH  \\\n",
       "datetime                                                               \n",
       "2020-10-01 08:00:00+00:00                              in        0.0   \n",
       "2020-10-02 08:00:00+00:00                              in        0.0   \n",
       "2020-10-03 08:00:00+00:00                              in        0.0   \n",
       "2020-10-04 08:00:00+00:00                              in        0.0   \n",
       "2020-10-05 08:00:00+00:00                              in        0.0   \n",
       "\n",
       "                          SNOWDEPTH_units  SWE SWE_units  AVG AIR TEMP  \\\n",
       "datetime                                                                 \n",
       "2020-10-01 08:00:00+00:00              in  0.0        in         64.22   \n",
       "2020-10-02 08:00:00+00:00              in  0.0        in         61.88   \n",
       "2020-10-03 08:00:00+00:00              in  0.0        in         56.66   \n",
       "2020-10-04 08:00:00+00:00              in  0.0        in         50.18   \n",
       "2020-10-05 08:00:00+00:00              in  0.0        in         55.04   \n",
       "\n",
       "                          AVG AIR TEMP_units  MIN AIR TEMP MIN AIR TEMP_units  \\\n",
       "datetime                                                                        \n",
       "2020-10-01 08:00:00+00:00               degF         60.08               degF   \n",
       "2020-10-02 08:00:00+00:00               degF         55.76               degF   \n",
       "2020-10-03 08:00:00+00:00               degF         48.20               degF   \n",
       "2020-10-04 08:00:00+00:00               degF         42.62               degF   \n",
       "2020-10-05 08:00:00+00:00               degF         44.60               degF   \n",
       "\n",
       "                           MAX AIR TEMP MAX AIR TEMP_units  \\\n",
       "datetime                                                     \n",
       "2020-10-01 08:00:00+00:00         73.22               degF   \n",
       "2020-10-02 08:00:00+00:00         70.70               degF   \n",
       "2020-10-03 08:00:00+00:00         66.38               degF   \n",
       "2020-10-04 08:00:00+00:00         59.00               degF   \n",
       "2020-10-05 08:00:00+00:00         64.40               degF   \n",
       "\n",
       "                           SOIL MOISTURE -2IN SOIL MOISTURE -2IN_units  \\\n",
       "datetime                                                                 \n",
       "2020-10-01 08:00:00+00:00                 2.6                      pct   \n",
       "2020-10-02 08:00:00+00:00                 2.7                      pct   \n",
       "2020-10-03 08:00:00+00:00                 2.8                      pct   \n",
       "2020-10-04 08:00:00+00:00                 1.8                      pct   \n",
       "2020-10-05 08:00:00+00:00                 2.5                      pct   \n",
       "\n",
       "                          datasource  \n",
       "datetime                              \n",
       "2020-10-01 08:00:00+00:00       NRCS  \n",
       "2020-10-02 08:00:00+00:00       NRCS  \n",
       "2020-10-03 08:00:00+00:00       NRCS  \n",
       "2020-10-04 08:00:00+00:00       NRCS  \n",
       "2020-10-05 08:00:00+00:00       NRCS  "
      ]
     },
     "execution_count": 3,
     "metadata": {},
     "output_type": "execute_result"
    }
   ],
   "source": [
    "snotel_point = SnotelPointData(\"679:WA:SNTL\", \"Paradise\")\n",
    "\n",
    "df = snotel_point.get_daily_data(\n",
    "    datetime(2020, 10, 1), datetime(2021, 9, 30),\n",
    "    [snotel_point.ALLOWED_VARIABLES.PRECIPITATION,\n",
    "     snotel_point.ALLOWED_VARIABLES.PRECIPITATIONACCUM,\n",
    "     snotel_point.ALLOWED_VARIABLES.SNOWDEPTH,\n",
    "     snotel_point.ALLOWED_VARIABLES.SWE,\n",
    "     snotel_point.ALLOWED_VARIABLES.TEMPAVG,\n",
    "     snotel_point.ALLOWED_VARIABLES.TEMPMIN,\n",
    "     snotel_point.ALLOWED_VARIABLES.TEMPMAX,\n",
    "     snotel_point.ALLOWED_VARIABLES.SOILMOISTURE2IN\n",
    "    ]\n",
    ")\n",
    "\n",
    "# Change the form of our resulting Pandas DataFrame\n",
    "df.reset_index(inplace=True)\n",
    "df.set_index(\"datetime\", inplace=True)\n",
    "\n",
    "\n",
    "df.head()"
   ]
  },
  {
   "cell_type": "markdown",
   "id": "a51a2eff-5a6e-4f7b-a2d8-96534044b66a",
   "metadata": {},
   "source": [
    "**2. Which variables are measured by the sensors? What are their units?**"
   ]
  },
  {
   "cell_type": "markdown",
   "id": "ef0ad468-325d-4d92-a69d-a4d40e9bea0e",
   "metadata": {},
   "source": [
    "*Your answer here*"
   ]
  },
  {
   "cell_type": "markdown",
   "id": "feac16e1-84ce-48d7-ba13-e80f6c67ea62",
   "metadata": {},
   "source": [
    "## Plotting SWE and other variables"
   ]
  },
  {
   "cell_type": "code",
   "execution_count": 4,
   "id": "f2a6f4e9-1da1-4381-93ae-157771a96f18",
   "metadata": {},
   "outputs": [
    {
     "data": {
      "text/plain": [
       "<matplotlib.lines.Line2D at 0x7fc914b09ac0>"
      ]
     },
     "execution_count": 4,
     "metadata": {},
     "output_type": "execute_result"
    },
    {
     "data": {
      "image/png": "[encoded data removed]",
      "text/plain": [
       "<Figure size 864x504 with 3 Axes>"
      ]
     },
     "metadata": {
      "needs_background": "light"
     },
     "output_type": "display_data"
    }
   ],
   "source": [
    "f,ax=plt.subplots(3,1,figsize=(12,7),sharex=True)\n",
    "df[\"SWE\"].plot(ax=ax[0])\n",
    "ax[0].set_ylabel(\"SWE (inches)\")\n",
    "ax[1].set_ylabel(\"Soil moisture (%)\")\n",
    "ax[2].set_ylabel(\"Temperature [F]\")\n",
    "df[\"SOIL MOISTURE -2IN\"].plot(ax=ax[1],color='red')\n",
    "df[\"AVG AIR TEMP\"].plot(ax=ax[2],color='green')\n",
    "ax[2].axhline(y=32,color='black',linestyle='--')\n",
    "#for axs in ax:\n",
    "#    axs.legend()"
   ]
  },
  {
   "cell_type": "markdown",
   "id": "ec540c1b-c409-489d-ae1a-e6ad0697d920",
   "metadata": {},
   "source": [
    "**3. What do you notice about the timing of SWE, soil moisture, and temperature? Is temperature important in determining melt timing?**"
   ]
  },
  {
   "cell_type": "markdown",
   "id": "b958eae3-b99a-4145-a3d5-0055be16681c",
   "metadata": {},
   "source": [
    "*Your answer here*"
   ]
  },
  {
   "cell_type": "markdown",
   "id": "f465a29e-2c1e-4a1a-bf8e-fb2492edc87b",
   "metadata": {},
   "source": [
    "## Let's compare to our chart from the lecture, which is found at https://www.nrcs.usda.gov/Internet/WCIS/AWS_PLOTS/siteCharts/POR/WTEQ/WA/Paradise.html"
   ]
  },
  {
   "cell_type": "markdown",
   "id": "0d1525ed-0bdf-40db-883f-98adf5808afb",
   "metadata": {},
   "source": [
    "**4. Did the peak occur earlier or later than other seasons in the last 30 years? Was it higher or lower?**"
   ]
  },
  {
   "cell_type": "markdown",
   "id": "20c61deb-2e7f-4bb2-8bc8-5883ec82bbd1",
   "metadata": {},
   "source": [
    "*Your answer here*"
   ]
  },
  {
   "cell_type": "markdown",
   "id": "66816b73-2885-4811-a539-151042648a24",
   "metadata": {},
   "source": [
    "## Let's add in some remote sensing data. Check out the runoff onset map and select 2021: https://egagli.github.io/view_sar_snowmelt_timing_map/ "
   ]
  },
  {
   "cell_type": "markdown",
   "id": "0bef1411-754a-4743-8481-1dd9a60aa9de",
   "metadata": {},
   "source": [
    "**5. Zoom into the SNOTEL location coordinates. What is the approximate calendar date of runoff onset? (You should convert day of year to calendar date)**"
   ]
  },
  {
   "cell_type": "markdown",
   "id": "b7247364-c9e6-4e3e-b548-656df4ceae01",
   "metadata": {},
   "source": [
    "*Your answer here*"
   ]
  },
  {
   "cell_type": "markdown",
   "id": "9f69f2bb-d4c8-41ea-b58b-80cdbc962e96",
   "metadata": {},
   "source": [
    "**6. Why would we expect date of runoff onset to happen at the same time as maxiumum SWE? Do they end up matching?**"
   ]
  },
  {
   "cell_type": "markdown",
   "id": "bf542176-d974-41b1-95a7-1d8e4dcd13eb",
   "metadata": {},
   "source": [
    "*Your answer here*"
   ]
  },
  {
   "cell_type": "markdown",
   "id": "6f2a2bc7-b3ca-4661-9ca9-f1470b6b9e8e",
   "metadata": {},
   "source": [
    "## Now let's combine our snow data with some river measurements\n",
    "* There is (or was, until recently) a stream gage on the Nisqually River downstream of Paradise, near the Longmire Wilderness Information Center (2700 feet)\n",
    "* We downloaded a CSV from https://waterdata.morageology.com/data.php?g=4B300A32\n",
    "* As we can see below, we get several measurements that could give us some clues "
   ]
  },
  {
   "cell_type": "code",
   "execution_count": 5,
   "id": "8162642b-5d91-4d40-97f4-f993f29e0a69",
   "metadata": {},
   "outputs": [
    {
     "data": {
      "text/html": [
       "<div>\n",
       "<style scoped>\n",
       "    .dataframe tbody tr th:only-of-type {\n",
       "        vertical-align: middle;\n",
       "    }\n",
       "\n",
       "    .dataframe tbody tr th {\n",
       "        vertical-align: top;\n",
       "    }\n",
       "\n",
       "    .dataframe thead th {\n",
       "        text-align: right;\n",
       "    }\n",
       "</style>\n",
       "<table border=\"1\" class=\"dataframe\">\n",
       "  <thead>\n",
       "    <tr style=\"text-align: right;\">\n",
       "      <th></th>\n",
       "      <th>GMT Datetime</th>\n",
       "      <th>Local Datetime</th>\n",
       "      <th>Stage (ft)</th>\n",
       "      <th>Rainfall (in)</th>\n",
       "      <th>Turbidity (ntu)</th>\n",
       "      <th>Air Temperature (°C)</th>\n",
       "      <th>Dew Point Temperature (°C)</th>\n",
       "      <th>Water Temperature (°C)</th>\n",
       "      <th>Enclosure Temperature (°C)</th>\n",
       "      <th>Turbidity Temperature (°C)</th>\n",
       "      <th>10-hour Fuel Temperature (°C)</th>\n",
       "      <th>Relative Humidity (%)</th>\n",
       "      <th>Unnamed: 12</th>\n",
       "      <th>Water Conductivity (μS/cm)</th>\n",
       "      <th>Air Level (ft)</th>\n",
       "      <th>Water Level (psi)</th>\n",
       "      <th>Battery (V)</th>\n",
       "    </tr>\n",
       "  </thead>\n",
       "  <tbody>\n",
       "    <tr>\n",
       "      <th>0</th>\n",
       "      <td>2020-10-01 07:00:00</td>\n",
       "      <td>2020-10-01 00:00:00</td>\n",
       "      <td>1.0901</td>\n",
       "      <td>0.0</td>\n",
       "      <td>NaN</td>\n",
       "      <td>12.530</td>\n",
       "      <td>NaN</td>\n",
       "      <td>6.549</td>\n",
       "      <td>12.2</td>\n",
       "      <td>NaN</td>\n",
       "      <td>12.5</td>\n",
       "      <td>-99.0</td>\n",
       "      <td>NaN</td>\n",
       "      <td>12.629</td>\n",
       "      <td>30.926</td>\n",
       "      <td>13.855</td>\n",
       "      <td>13.2</td>\n",
       "    </tr>\n",
       "    <tr>\n",
       "      <th>1</th>\n",
       "      <td>2020-10-01 07:15:00</td>\n",
       "      <td>2020-10-01 00:15:00</td>\n",
       "      <td>1.1156</td>\n",
       "      <td>0.0</td>\n",
       "      <td>NaN</td>\n",
       "      <td>12.549</td>\n",
       "      <td>NaN</td>\n",
       "      <td>6.526</td>\n",
       "      <td>12.0</td>\n",
       "      <td>NaN</td>\n",
       "      <td>12.4</td>\n",
       "      <td>-99.0</td>\n",
       "      <td>NaN</td>\n",
       "      <td>12.612</td>\n",
       "      <td>30.926</td>\n",
       "      <td>13.866</td>\n",
       "      <td>13.2</td>\n",
       "    </tr>\n",
       "    <tr>\n",
       "      <th>2</th>\n",
       "      <td>2020-10-01 07:30:00</td>\n",
       "      <td>2020-10-01 00:30:00</td>\n",
       "      <td>1.0812</td>\n",
       "      <td>0.0</td>\n",
       "      <td>NaN</td>\n",
       "      <td>12.478</td>\n",
       "      <td>NaN</td>\n",
       "      <td>6.506</td>\n",
       "      <td>12.0</td>\n",
       "      <td>NaN</td>\n",
       "      <td>12.4</td>\n",
       "      <td>-99.0</td>\n",
       "      <td>NaN</td>\n",
       "      <td>12.604</td>\n",
       "      <td>30.928</td>\n",
       "      <td>13.852</td>\n",
       "      <td>13.2</td>\n",
       "    </tr>\n",
       "    <tr>\n",
       "      <th>3</th>\n",
       "      <td>2020-10-01 07:45:00</td>\n",
       "      <td>2020-10-01 00:45:00</td>\n",
       "      <td>1.0766</td>\n",
       "      <td>0.0</td>\n",
       "      <td>NaN</td>\n",
       "      <td>12.429</td>\n",
       "      <td>NaN</td>\n",
       "      <td>6.492</td>\n",
       "      <td>11.8</td>\n",
       "      <td>NaN</td>\n",
       "      <td>12.4</td>\n",
       "      <td>-99.0</td>\n",
       "      <td>NaN</td>\n",
       "      <td>12.601</td>\n",
       "      <td>30.928</td>\n",
       "      <td>13.850</td>\n",
       "      <td>13.2</td>\n",
       "    </tr>\n",
       "    <tr>\n",
       "      <th>4</th>\n",
       "      <td>2020-10-01 08:00:00</td>\n",
       "      <td>2020-10-01 01:00:00</td>\n",
       "      <td>1.0740</td>\n",
       "      <td>0.0</td>\n",
       "      <td>NaN</td>\n",
       "      <td>12.369</td>\n",
       "      <td>NaN</td>\n",
       "      <td>6.484</td>\n",
       "      <td>11.6</td>\n",
       "      <td>NaN</td>\n",
       "      <td>12.3</td>\n",
       "      <td>-99.0</td>\n",
       "      <td>NaN</td>\n",
       "      <td>12.624</td>\n",
       "      <td>30.926</td>\n",
       "      <td>13.848</td>\n",
       "      <td>13.2</td>\n",
       "    </tr>\n",
       "  </tbody>\n",
       "</table>\n",
       "</div>"
      ],
      "text/plain": [
       "         GMT Datetime       Local Datetime  Stage (ft)  Rainfall (in)  \\\n",
       "0 2020-10-01 07:00:00  2020-10-01 00:00:00      1.0901            0.0   \n",
       "1 2020-10-01 07:15:00  2020-10-01 00:15:00      1.1156            0.0   \n",
       "2 2020-10-01 07:30:00  2020-10-01 00:30:00      1.0812            0.0   \n",
       "3 2020-10-01 07:45:00  2020-10-01 00:45:00      1.0766            0.0   \n",
       "4 2020-10-01 08:00:00  2020-10-01 01:00:00      1.0740            0.0   \n",
       "\n",
       "   Turbidity (ntu)  Air Temperature (°C)  Dew Point Temperature (°C)  \\\n",
       "0              NaN                12.530                         NaN   \n",
       "1              NaN                12.549                         NaN   \n",
       "2              NaN                12.478                         NaN   \n",
       "3              NaN                12.429                         NaN   \n",
       "4              NaN                12.369                         NaN   \n",
       "\n",
       "   Water Temperature (°C)  Enclosure Temperature (°C)  \\\n",
       "0                   6.549                        12.2   \n",
       "1                   6.526                        12.0   \n",
       "2                   6.506                        12.0   \n",
       "3                   6.492                        11.8   \n",
       "4                   6.484                        11.6   \n",
       "\n",
       "   Turbidity Temperature (°C)  10-hour Fuel Temperature (°C)  \\\n",
       "0                         NaN                           12.5   \n",
       "1                         NaN                           12.4   \n",
       "2                         NaN                           12.4   \n",
       "3                         NaN                           12.4   \n",
       "4                         NaN                           12.3   \n",
       "\n",
       "   Relative Humidity (%)  Unnamed: 12  Water Conductivity (μS/cm)  \\\n",
       "0                  -99.0          NaN                      12.629   \n",
       "1                  -99.0          NaN                      12.612   \n",
       "2                  -99.0          NaN                      12.604   \n",
       "3                  -99.0          NaN                      12.601   \n",
       "4                  -99.0          NaN                      12.624   \n",
       "\n",
       "   Air Level (ft)  Water Level (psi)  Battery (V)  \n",
       "0          30.926             13.855         13.2  \n",
       "1          30.926             13.866         13.2  \n",
       "2          30.928             13.852         13.2  \n",
       "3          30.928             13.850         13.2  \n",
       "4          30.926             13.848         13.2  "
      ]
     },
     "execution_count": 5,
     "metadata": {},
     "output_type": "execute_result"
    }
   ],
   "source": [
    "downstream_df = pd.read_csv(\"longmire_wy2021.csv\", parse_dates=True)\n",
    "\n",
    "# A bit of reformatting for the date field\n",
    "# What is GMT, and why do you think it's commonly used as the timestamp for measurements?\n",
    "downstream_df[\"GMT Datetime\"] = pd.to_datetime(downstream_df[\"GMT Datetime\"])\n",
    "downstream_df.set_index(\"GMT Datetime\")\n",
    "\n",
    "# Replace thse \n",
    "downstream_df = downstream_df.replace(-999.9999, np.nan)\n",
    "downstream_df = downstream_df.replace(-999.0, np.nan)\n",
    "downstream_df = downstream_df.replace(999.9999, np.nan)\n",
    "\n",
    "downstream_df.head()"
   ]
  },
  {
   "cell_type": "markdown",
   "id": "e9af250c-7862-41b5-b947-34f43444839d",
   "metadata": {},
   "source": [
    "## Plotting the water level over the year\n",
    "In our case, we are only curious about the stage (height level) of the Nisqually River, and connecting this to what's happening relative to the snow at our Paradise site."
   ]
  },
  {
   "cell_type": "code",
   "execution_count": 6,
   "id": "0f2f5856-5eda-447f-b41d-b91cc1801b26",
   "metadata": {},
   "outputs": [
    {
     "data": {
      "text/plain": [
       "Text(0.5, 1.0, 'Nisqually River stage at Longmire')"
      ]
     },
     "execution_count": 6,
     "metadata": {},
     "output_type": "execute_result"
    },
    {
     "data": {
      "image/png": "[encoded data removed]",
      "text/plain": [
       "<Figure size 864x288 with 1 Axes>"
      ]
     },
     "metadata": {
      "needs_background": "light"
     },
     "output_type": "display_data"
    }
   ],
   "source": [
    "f,ax=plt.subplots(figsize=(12,4))\n",
    "downstream_df.plot.scatter(\"GMT Datetime\", \"Stage (ft)\",ax=ax)\n",
    "ax.set_title(\"Nisqually River stage at Longmire\")"
   ]
  },
  {
   "cell_type": "markdown",
   "id": "6e38f152-8a0d-42a2-890a-b2e0d4ecd1ee",
   "metadata": {},
   "source": [
    "**7. Hmm... is that a plausible measurement of the stage in November? What would have happened if that was real?**"
   ]
  },
  {
   "cell_type": "markdown",
   "id": "38566257-11b6-4b63-9697-bf7b8bf3cf0a",
   "metadata": {},
   "source": [
    "*Your answer here*"
   ]
  },
  {
   "cell_type": "code",
   "execution_count": 7,
   "id": "3b5f47f0-7029-4aa6-843c-f1fa40fffc68",
   "metadata": {},
   "outputs": [
    {
     "data": {
      "text/plain": [
       "Text(0.5, 1.0, 'Nisqually River stage at Longmire')"
      ]
     },
     "execution_count": 7,
     "metadata": {},
     "output_type": "execute_result"
    },
    {
     "data": {
      "image/png": "[encoded data removed]",
      "text/plain": [
       "<Figure size 864x288 with 1 Axes>"
      ]
     },
     "metadata": {
      "needs_background": "light"
     },
     "output_type": "display_data"
    }
   ],
   "source": [
    "f,ax=plt.subplots(figsize=(12,4))\n",
    "downstream_df.plot.scatter(\"GMT Datetime\", \"Stage (ft)\",ax=ax)\n",
    "plt.ylim(0,5)\n",
    "plt.title(\"Nisqually River stage at Longmire\")"
   ]
  },
  {
   "cell_type": "markdown",
   "id": "ebb69f46-4005-46c9-ad12-ce170b559416",
   "metadata": {},
   "source": [
    "## Let's plot our two datasets together"
   ]
  },
  {
   "cell_type": "code",
   "execution_count": 8,
   "id": "b546c56e-cdff-48ef-811c-c52aaf2327b0",
   "metadata": {},
   "outputs": [
    {
     "data": {
      "text/plain": [
       "<matplotlib.legend.Legend at 0x7fc914718fa0>"
      ]
     },
     "execution_count": 8,
     "metadata": {},
     "output_type": "execute_result"
    },
    {
     "data": {
      "image/png": "[encoded data removed]",
      "text/plain": [
       "<Figure size 720x288 with 2 Axes>"
      ]
     },
     "metadata": {
      "needs_background": "light"
     },
     "output_type": "display_data"
    }
   ],
   "source": [
    "fig, ax = plt.subplots(nrows=1, sharex=True, figsize=(10,4))\n",
    "ax0 = ax\n",
    "df[\"SWE\"].plot(ax=ax0, label=\"Paradise SWE\")\n",
    "ax0.set_ylabel(\"SWE (in)\")\n",
    "ax0.set_title(\"Water Year 2021: SWE at Paradise vs. Nisqually River stage at Longmire\")\n",
    "ax1 = ax0.twinx()\n",
    "ax1.plot(downstream_df[\"GMT Datetime\"], downstream_df[\"Stage (ft)\"], color=\"orange\", label=\"Nisqually River stage\")\n",
    "ax1.set_ylim(0, 4.5)\n",
    "# ax1.set_title(\"Nisqually River stage at Longmire (downstream of Paradise)\")\n",
    "ax1.set_ylabel(\"Stage (ft)\")\n",
    "# axes[2].plot(downstream_df[\"GMT Datetime\"], downstream_df[\"Water Temperature (°C)\"])\n",
    "ax0.legend(loc=2)\n",
    "ax1.legend(loc=0)"
   ]
  },
  {
   "cell_type": "markdown",
   "id": "35853cb4-2320-450c-baa0-1ca17b194775",
   "metadata": {},
   "source": [
    "**8. Zoom in on late October-November 2020. What does the Paradise SWE measurement tell us about the spikes in the river downstream? Which other variables would help us figure out what is going on here?**"
   ]
  },
  {
   "cell_type": "markdown",
   "id": "e57627bc-e291-4404-8f1e-7dacbb26aa46",
   "metadata": {},
   "source": [
    "*Your answer here*"
   ]
  },
  {
   "cell_type": "markdown",
   "id": "5b22f25c-c729-4daf-ab9a-565b16e7e209",
   "metadata": {},
   "source": [
    "**9. What's going on in the middle of the winter?**"
   ]
  },
  {
   "cell_type": "markdown",
   "id": "9d923e3a-6860-48de-9459-3b2716c4d1aa",
   "metadata": {},
   "source": [
    "*Your answer here*"
   ]
  },
  {
   "cell_type": "markdown",
   "id": "d06c776b-cd1d-45ac-a5a3-7aba4a6bb60f",
   "metadata": {},
   "source": [
    "## Transitioning to spring\n",
    "**10. From the April 20th peak SWE for this year, to 0, how long does this melt process take?**"
   ]
  },
  {
   "cell_type": "markdown",
   "id": "3e092211-4f09-4139-bbbf-b322762cc717",
   "metadata": {},
   "source": [
    "*Your answer here*"
   ]
  },
  {
   "cell_type": "markdown",
   "id": "b9d0b052-97dd-4c57-b127-cdd9aa49bb4e",
   "metadata": {},
   "source": [
    "**(Bonus) Coding exercise: pick a smaller time period and plot the daily temperature range, precipitation, and SWE**"
   ]
  },
  {
   "cell_type": "code",
   "execution_count": 9,
   "id": "20b3aa48-f168-4799-9e0e-a2635aae63e7",
   "metadata": {},
   "outputs": [],
   "source": [
    "#Your answer here\n"
   ]
  },
  {
   "cell_type": "markdown",
   "id": "3c7b20b4-5559-4fb6-b6e0-bef751cb79e6",
   "metadata": {},
   "source": [
    "## Wrapping up"
   ]
  },
  {
   "cell_type": "markdown",
   "id": "f69e2aa9-db6a-4374-a0ab-f4cf6079c7b1",
   "metadata": {},
   "source": [
    "**11. We found a maximum SWE of 93 inches at the Paradise SNOTEL station for 2021. All of this snow eventually melted and ended up somewhere. Based on your analysis in this assignment, where do you think the water went?**"
   ]
  },
  {
   "cell_type": "markdown",
   "id": "41ce3b07-0e2c-49ce-8023-c453a29f1234",
   "metadata": {},
   "source": [
    "*Your answer here*"
   ]
  },
  {
   "cell_type": "markdown",
   "id": "e6b31dc8-78c1-4edb-8f81-f91ba17524a9",
   "metadata": {},
   "source": [
    "**12. Let's say you were tasked to determine the average day of snowmelt in the Nisqually River Basin. What are the benefits of using each dataset: SNOTEL station SWE, SNOTEL station temperature, Nisqually streamgage, remote sensing snowmelt map. Do you think combining datasets would lead to a more accurate prediction?**"
   ]
  },
  {
   "cell_type": "markdown",
   "id": "f96d7204-e119-418b-a8f8-db2956d4cd4b",
   "metadata": {},
   "source": [
    "*Your answer here*"
   ]
  },
  {
   "cell_type": "code",
   "execution_count": null,
   "id": "97dcb935-fef5-4ff8-9967-17a530e08f82",
   "metadata": {},
   "outputs": [],
   "source": []
  }
 ],
 "metadata": {
  "kernelspec": {
   "display_name": "Python 3 (ipykernel)",
   "language": "python",
   "name": "python3"
  },
  "language_info": {
   "codemirror_mode": {
    "name": "ipython",
    "version": 3
   },
   "file_extension": ".py",
   "mimetype": "text/x-python",
   "name": "python",
   "nbconvert_exporter": "python",
   "pygments_lexer": "ipython3",
   "version": "3.9.7"
  }
 },
 "nbformat": 4,
 "nbformat_minor": 5
}
